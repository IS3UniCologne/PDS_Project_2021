{
 "cells": [
  {
   "cell_type": "code",
   "execution_count": 1,
   "metadata": {},
   "outputs": [
    {
     "ename": "NameError",
     "evalue": "name 'np' is not defined",
     "output_type": "error",
     "traceback": [
      "\u001b[1;31m---------------------------------------------------------------------------\u001b[0m",
      "\u001b[1;31mNameError\u001b[0m                                 Traceback (most recent call last)",
      "\u001b[1;32m<ipython-input-1-fa470228d7b5>\u001b[0m in \u001b[0;36m<module>\u001b[1;34m\u001b[0m\n\u001b[1;32m----> 1\u001b[1;33m \u001b[0mraw\u001b[0m\u001b[1;33m[\u001b[0m\u001b[1;34m'start_hour_sin'\u001b[0m\u001b[1;33m]\u001b[0m\u001b[1;33m=\u001b[0m \u001b[0mnp\u001b[0m\u001b[1;33m.\u001b[0m\u001b[0msin\u001b[0m\u001b[1;33m(\u001b[0m\u001b[0mraw\u001b[0m\u001b[1;33m[\u001b[0m\u001b[1;34m'start_hour'\u001b[0m\u001b[1;33m]\u001b[0m\u001b[1;33m*\u001b[0m\u001b[1;33m(\u001b[0m\u001b[1;36m2.\u001b[0m\u001b[1;33m*\u001b[0m\u001b[0mnp\u001b[0m\u001b[1;33m.\u001b[0m\u001b[0mpi\u001b[0m\u001b[1;33m/\u001b[0m\u001b[1;36m24\u001b[0m\u001b[1;33m)\u001b[0m\u001b[1;33m)\u001b[0m \u001b[1;31m# coordinate values on Oy\u001b[0m\u001b[1;33m\u001b[0m\u001b[1;33m\u001b[0m\u001b[0m\n\u001b[0m\u001b[0;32m      2\u001b[0m \u001b[0mraw\u001b[0m\u001b[1;33m[\u001b[0m\u001b[1;34m'start_hour_cos'\u001b[0m\u001b[1;33m]\u001b[0m\u001b[1;33m=\u001b[0m \u001b[0mnp\u001b[0m\u001b[1;33m.\u001b[0m\u001b[0mcos\u001b[0m\u001b[1;33m(\u001b[0m\u001b[0mraw\u001b[0m\u001b[1;33m[\u001b[0m\u001b[1;34m'start_hour'\u001b[0m\u001b[1;33m]\u001b[0m\u001b[1;33m*\u001b[0m\u001b[1;33m(\u001b[0m\u001b[1;36m2.\u001b[0m\u001b[1;33m*\u001b[0m\u001b[0mnp\u001b[0m\u001b[1;33m.\u001b[0m\u001b[0mpi\u001b[0m\u001b[1;33m/\u001b[0m\u001b[1;36m24\u001b[0m\u001b[1;33m)\u001b[0m\u001b[1;33m)\u001b[0m \u001b[1;31m#coordinate values on Ox\u001b[0m\u001b[1;33m\u001b[0m\u001b[1;33m\u001b[0m\u001b[0m\n\u001b[0;32m      3\u001b[0m \u001b[1;33m\u001b[0m\u001b[0m\n\u001b[0;32m      4\u001b[0m \u001b[0mraw\u001b[0m\u001b[1;33m[\u001b[0m\u001b[1;34m'start_day_sin'\u001b[0m\u001b[1;33m]\u001b[0m\u001b[1;33m=\u001b[0m \u001b[0mnp\u001b[0m\u001b[1;33m.\u001b[0m\u001b[0msin\u001b[0m\u001b[1;33m(\u001b[0m\u001b[0mraw\u001b[0m\u001b[1;33m[\u001b[0m\u001b[1;34m'start_day'\u001b[0m\u001b[1;33m]\u001b[0m\u001b[1;33m*\u001b[0m\u001b[1;33m(\u001b[0m\u001b[1;36m2.\u001b[0m\u001b[1;33m*\u001b[0m\u001b[0mnp\u001b[0m\u001b[1;33m.\u001b[0m\u001b[0mpi\u001b[0m\u001b[1;33m/\u001b[0m\u001b[1;36m7\u001b[0m\u001b[1;33m)\u001b[0m\u001b[1;33m)\u001b[0m\u001b[1;33m\u001b[0m\u001b[1;33m\u001b[0m\u001b[0m\n\u001b[0;32m      5\u001b[0m \u001b[0mraw\u001b[0m\u001b[1;33m[\u001b[0m\u001b[1;34m'start_day_cos'\u001b[0m\u001b[1;33m]\u001b[0m\u001b[1;33m=\u001b[0m \u001b[0mnp\u001b[0m\u001b[1;33m.\u001b[0m\u001b[0mcos\u001b[0m\u001b[1;33m(\u001b[0m\u001b[0mraw\u001b[0m\u001b[1;33m[\u001b[0m\u001b[1;34m'start_day'\u001b[0m\u001b[1;33m]\u001b[0m\u001b[1;33m*\u001b[0m\u001b[1;33m(\u001b[0m\u001b[1;36m2.\u001b[0m\u001b[1;33m*\u001b[0m\u001b[0mnp\u001b[0m\u001b[1;33m.\u001b[0m\u001b[0mpi\u001b[0m\u001b[1;33m/\u001b[0m\u001b[1;36m7\u001b[0m\u001b[1;33m)\u001b[0m\u001b[1;33m)\u001b[0m\u001b[1;33m\u001b[0m\u001b[1;33m\u001b[0m\u001b[0m\n",
      "\u001b[1;31mNameError\u001b[0m: name 'np' is not defined"
     ]
    }
   ],
   "source": [
    "#Create sin, cos for month, day, hour\n",
    "raw['start_hour_sin']= np.sin(raw['start_hour']*(2.*np.pi/24)) # coordinate values on Oy\n",
    "raw['start_hour_cos']= np.cos(raw['start_hour']*(2.*np.pi/24)) #coordinate values on Ox\n",
    "\n",
    "raw['start_day_sin']= np.sin(raw['start_day']*(2.*np.pi/7))\n",
    "raw['start_day_cos']= np.cos(raw['start_day']*(2.*np.pi/7))\n",
    "#print(raw['start_day'].unique())\n",
    "#print(raw['start_day_sin'].unique())\n",
    "\n",
    "raw['start_month_sin']= np.sin(raw['start_month_num']*(2.*np.pi/12))\n",
    "raw['start_month_cos']= np.cos(raw['start_month_num']*(2.*np.pi/12))\n",
    "#print(raw['start_month_num'].unique())\n",
    "#print(raw['start_month_sin'].unique())"
   ]
  },
  {
   "cell_type": "code",
   "execution_count": 2,
   "metadata": {},
   "outputs": [],
   "source": [
    "# Create feature seasons\n",
    "def seasons(month):\n",
    "    if month in [11,12,1]:\n",
    "        return 'Winter'\n",
    "    elif month in [2,3,4]:\n",
    "        return 'Spring'\n",
    "    elif month in [5,6,7]:\n",
    "        return 'Summer'\n",
    "    else: \n",
    "        return 'Fall'\n",
    "\n"
   ]
  },
  {
   "cell_type": "code",
   "execution_count": 3,
   "metadata": {},
   "outputs": [
    {
     "ename": "NameError",
     "evalue": "name 'raw' is not defined",
     "output_type": "error",
     "traceback": [
      "\u001b[1;31m---------------------------------------------------------------------------\u001b[0m",
      "\u001b[1;31mNameError\u001b[0m                                 Traceback (most recent call last)",
      "\u001b[1;32m<ipython-input-3-61ef6c99acb5>\u001b[0m in \u001b[0;36m<module>\u001b[1;34m\u001b[0m\n\u001b[1;32m----> 1\u001b[1;33m \u001b[0mraw\u001b[0m\u001b[1;33m[\u001b[0m\u001b[1;34m'seasons'\u001b[0m\u001b[1;33m]\u001b[0m\u001b[1;33m=\u001b[0m\u001b[0mraw\u001b[0m\u001b[1;33m[\u001b[0m\u001b[1;34m'start_month_num'\u001b[0m\u001b[1;33m]\u001b[0m\u001b[1;33m.\u001b[0m\u001b[0mmap\u001b[0m\u001b[1;33m(\u001b[0m\u001b[0mseasons\u001b[0m\u001b[1;33m)\u001b[0m\u001b[1;33m\u001b[0m\u001b[1;33m\u001b[0m\u001b[0m\n\u001b[0m",
      "\u001b[1;31mNameError\u001b[0m: name 'raw' is not defined"
     ]
    }
   ],
   "source": [
    "raw['seasons']=raw['start_month_num'].map(seasons)"
   ]
  },
  {
   "cell_type": "code",
   "execution_count": 5,
   "metadata": {},
   "outputs": [
    {
     "ename": "NameError",
     "evalue": "name 'np' is not defined",
     "output_type": "error",
     "traceback": [
      "\u001b[1;31m---------------------------------------------------------------------------\u001b[0m",
      "\u001b[1;31mNameError\u001b[0m                                 Traceback (most recent call last)",
      "\u001b[1;32m<ipython-input-5-9bfc7e6c162a>\u001b[0m in \u001b[0;36m<module>\u001b[1;34m\u001b[0m\n\u001b[0;32m      1\u001b[0m \u001b[1;31m#Create feature daypart\u001b[0m\u001b[1;33m\u001b[0m\u001b[1;33m\u001b[0m\u001b[1;33m\u001b[0m\u001b[0m\n\u001b[1;32m----> 2\u001b[1;33m \u001b[0mhours\u001b[0m\u001b[1;33m=\u001b[0m \u001b[0mnp\u001b[0m\u001b[1;33m.\u001b[0m\u001b[0marange\u001b[0m\u001b[1;33m(\u001b[0m\u001b[1;36m0\u001b[0m\u001b[1;33m,\u001b[0m\u001b[1;36m23\u001b[0m\u001b[1;33m)\u001b[0m\u001b[1;33m\u001b[0m\u001b[1;33m\u001b[0m\u001b[0m\n\u001b[0m\u001b[0;32m      3\u001b[0m \u001b[0mdayparts\u001b[0m\u001b[1;33m=\u001b[0m\u001b[1;33m[\u001b[0m\u001b[1;34m'midnight'\u001b[0m\u001b[1;33m,\u001b[0m\u001b[1;34m'midnight'\u001b[0m\u001b[1;33m,\u001b[0m\u001b[1;34m'dawn'\u001b[0m\u001b[1;33m,\u001b[0m\u001b[1;34m'dawn'\u001b[0m\u001b[1;33m,\u001b[0m\u001b[1;34m'dawn'\u001b[0m\u001b[1;33m,\u001b[0m\u001b[1;34m'dawn'\u001b[0m\u001b[1;33m,\u001b[0m\u001b[1;34m'morning'\u001b[0m\u001b[1;33m,\u001b[0m\u001b[1;34m'morning'\u001b[0m\u001b[1;33m,\u001b[0m\u001b[1;34m'morning'\u001b[0m\u001b[1;33m,\u001b[0m\u001b[1;34m'morning'\u001b[0m\u001b[1;33m,\u001b[0m\u001b[1;34m'noon'\u001b[0m\u001b[1;33m,\u001b[0m\u001b[1;34m'noon'\u001b[0m\u001b[1;33m,\u001b[0m\u001b[1;34m'noon'\u001b[0m\u001b[1;33m,\u001b[0m\u001b[1;34m'noon'\u001b[0m\u001b[1;33m,\u001b[0m\u001b[1;34m'afternoon'\u001b[0m\u001b[1;33m,\u001b[0m\u001b[1;34m'afternoon'\u001b[0m\u001b[1;33m,\u001b[0m\u001b[1;34m'afternoon'\u001b[0m\u001b[1;33m,\u001b[0m\u001b[1;34m'afternoon'\u001b[0m\u001b[1;33m,\u001b[0m\u001b[1;34m'evening'\u001b[0m\u001b[1;33m,\u001b[0m\u001b[1;34m'evening'\u001b[0m\u001b[1;33m,\u001b[0m\u001b[1;34m'evening'\u001b[0m\u001b[1;33m,\u001b[0m\u001b[1;34m'evening'\u001b[0m\u001b[1;33m,\u001b[0m\u001b[1;34m'midnight'\u001b[0m\u001b[1;33m,\u001b[0m\u001b[1;34m'midnight'\u001b[0m\u001b[1;33m]\u001b[0m\u001b[1;33m\u001b[0m\u001b[1;33m\u001b[0m\u001b[0m\n\u001b[0;32m      4\u001b[0m \u001b[0mddayparts\u001b[0m\u001b[1;33m=\u001b[0m \u001b[0mdict\u001b[0m\u001b[1;33m(\u001b[0m\u001b[0mzip\u001b[0m\u001b[1;33m(\u001b[0m\u001b[0mhours\u001b[0m\u001b[1;33m,\u001b[0m\u001b[0mdayparts\u001b[0m\u001b[1;33m)\u001b[0m\u001b[1;33m)\u001b[0m\u001b[1;33m\u001b[0m\u001b[1;33m\u001b[0m\u001b[0m\n\u001b[0;32m      5\u001b[0m \u001b[0mraw\u001b[0m\u001b[1;33m[\u001b[0m\u001b[1;34m'dayparts'\u001b[0m\u001b[1;33m]\u001b[0m\u001b[1;33m=\u001b[0m\u001b[0mraw\u001b[0m\u001b[1;33m[\u001b[0m\u001b[1;34m'start_hour'\u001b[0m\u001b[1;33m]\u001b[0m\u001b[1;33m.\u001b[0m\u001b[0mmap\u001b[0m\u001b[1;33m(\u001b[0m\u001b[0mddayparts\u001b[0m\u001b[1;33m)\u001b[0m\u001b[1;33m\u001b[0m\u001b[1;33m\u001b[0m\u001b[0m\n",
      "\u001b[1;31mNameError\u001b[0m: name 'np' is not defined"
     ]
    }
   ],
   "source": [
    "#Create feature daypart \n",
    "hours= np.arange(0,23)\n",
    "dayparts=['midnight','midnight','dawn','dawn','dawn','dawn','morning','morning','morning','morning','noon','noon','noon','noon','afternoon','afternoon','afternoon','afternoon','evening','evening','evening','evening','midnight','midnight']\n",
    "ddayparts= dict(zip(hours,dayparts))\n",
    "raw['dayparts']=raw['start_hour'].map(ddayparts)\n",
    "dayparts = pd.get_dummies(raw['dayparts'],drop_first=True)"
   ]
  },
  {
   "cell_type": "code",
   "execution_count": 6,
   "metadata": {},
   "outputs": [],
   "source": [
    "#Create feature coordinates \n",
    "def map():\n",
    "    with open('D:/TOPIC_RELATED VOCABULARY IELTS/Finland/aalto/cemsschool/Other Courses/programming course for DS/project/taxi_zones.geojson') as f:\n",
    "        gj = geojson.load(f)\n",
    "    features = gj['features']\n",
    "    return features\n"
   ]
  },
  {
   "cell_type": "code",
   "execution_count": null,
   "metadata": {},
   "outputs": [],
   "source": [
    "features = map()\n",
    "coor0 = []\n",
    "coor1= []\n",
    "for i in np.arange(0,len(features)):\n",
    "    if features[i]['geometry']['type']=='MultiPolygon':\n",
    "        shape= features[i]['geometry']['coordinates'][0][0]\n",
    "    else:   \n",
    "        shape= features[i]['geometry']['coordinates'][0]\n",
    "    centroid= list(Polygon(shape).centroid.coords)\n",
    "    coor0.append(centroid[0][0])\n",
    "    coor1.append(centroid[0][1])"
   ]
  },
  {
   "cell_type": "code",
   "execution_count": null,
   "metadata": {},
   "outputs": [],
   "source": [
    "#Make the feature Coordinates being meaningful \n",
    "start_pos= pd.DataFrame([coor0,coo1]).T\n",
    "kmeans= KMeans(2, random_state=0, n_jobs=2) # number of clusters is not fixed. I should try other number of clusters to see which one works best\n",
    "kmeans.fit(start_pos)\n",
    "X= kmeans.transform(start_pos) # return the euclidian distance between the centroid of each area and the centroid of the cluster\n",
    "#=>  please create  columns in the whole dataframe storing  these distance values. Do this by mapping PULocationID to this distance value. If clustter =2, there should be two columns representing the distance from the centroid of each area and the centroid of each centroid of each cluster\n"
   ]
  }
 ],
 "metadata": {
  "kernelspec": {
   "display_name": "Python 3",
   "language": "python",
   "name": "python3"
  },
  "language_info": {
   "codemirror_mode": {
    "name": "ipython",
    "version": 3
   },
   "file_extension": ".py",
   "mimetype": "text/x-python",
   "name": "python",
   "nbconvert_exporter": "python",
   "pygments_lexer": "ipython3",
   "version": "3.8.5"
  }
 },
 "nbformat": 4,
 "nbformat_minor": 4
}
