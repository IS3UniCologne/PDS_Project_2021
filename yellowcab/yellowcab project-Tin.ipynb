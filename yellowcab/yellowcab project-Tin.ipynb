{
 "cells": [
  {
   "cell_type": "code",
   "execution_count": 63,
   "metadata": {},
   "outputs": [],
   "source": [
    "import pandas as pd\n",
    "import numpy as np \n",
    "import datetime as dt\n",
    "import re\n",
    "import os\n",
    "import geojson\n",
    "import seaborn as sns\n",
    "from shapely.geometry import shape, GeometryCollection\n",
    "from shapely.geometry import Polygon, MultiPolygon\n",
    "import pandas \n",
    "import matplotlib.pyplot as plt\n",
    "import scipy.stats as stats\n",
    "from sklearn.linear_model import LinearRegression, Ridge, Lasso\n",
    "from sklearn.preprocessing import PolynomialFeatures, StandardScaler, RobustScaler\n",
    "from sklearn.model_selection import train_test_split, GridSearchCV\n",
    "from sklearn.pipeline import Pipeline\n",
    "\n",
    "\n",
    "\n"
   ]
  },
  {
   "cell_type": "code",
   "execution_count": null,
   "metadata": {},
   "outputs": [],
   "source": [
    "def map():\n",
    "    with open('D:/TOPIC_RELATED VOCABULARY IELTS/Finland/aalto/cemsschool/Other Courses/programming course for DS/project/taxi_zones.geojson') as f:\n",
    "        gj = geojson.load(f)\n",
    "    features = gj['features']\n",
    "    return features"
   ]
  },
  {
   "cell_type": "code",
   "execution_count": 3,
   "metadata": {},
   "outputs": [],
   "source": [
    "def info(a):\n",
    "    print('it has dimensions {}, shape {}, size {}'.format(a.ndim,a.shape,a.size))"
   ]
  },
  {
   "cell_type": "code",
   "execution_count": 4,
   "metadata": {},
   "outputs": [
    {
     "name": "stdout",
     "output_type": "stream",
     "text": [
      "it has dimensions 1, shape (1409936,), size 1409936\n"
     ]
    }
   ],
   "source": [
    "def zone():\n",
    "    \n",
    "    #os.getcwd()\n",
    "    #os.chdir('C:/Users/ADMIN/AppData/Local/tmc/vscode/hy-data-analysis-with-python-2020/part03-e03_most_frequent_first/src/')\n",
    "    file = pd.read_csv('D:/TOPIC_RELATED VOCABULARY IELTS/Finland/aalto/cemsschool/Other Courses/programming course for DS/project/taxi_zones.csv',sep=',')\n",
    "    return file[file.Borough == 'Queens']\n",
    "\n",
    "# Filter Queens trips: Open trip files and return data relates to Queens borough, then merge seperate files into 1 dataframe.\n",
    "def data():\n",
    "    z = zone()\n",
    "    queens = z.LocationID.unique()\n",
    "    result = []\n",
    "    for i in range(1,10):\n",
    "        raw = pd.read_parquet(f'D:/TOPIC_RELATED VOCABULARY IELTS/Finland/aalto/cemsschool/Other Courses/programming course for DS/project//trip_data/0{i}.parquet', engine='pyarrow')\n",
    "        df = raw[raw['PULocationID'].isin(queens)]\n",
    "        df['Month'] = i\n",
    "        result.append(df)\n",
    "    for j in range(10,13):\n",
    "        raw = pd.read_parquet(f'D:/TOPIC_RELATED VOCABULARY IELTS/Finland/aalto/cemsschool/Other Courses/programming course for DS/project//trip_data/{i}.parquet', engine='pyarrow')\n",
    "        df = raw[raw['PULocationID'].isin(queens)]\n",
    "        df['Month'] = j\n",
    "        result.append(df)\n",
    "    return pd.concat(result)\n",
    "\n",
    "\n",
    "\n",
    "df = zone()\n",
    "#df.to_csv(\"C:/Users/kyral/Documents/GitHub/PDS_Yellowcab_UoC/data/output/locationID.csv\")\n",
    "#print('fdsfds')\n",
    "#d = data()\n",
    "#info(df)\n",
    "\n",
    "queens = df['LocationID'].unique()\n",
    "#print(d.head())\n",
    "raw = pd.read_parquet(f'D:/TOPIC_RELATED VOCABULARY IELTS/Finland/aalto/cemsschool/Other Courses/programming course for DS/project//trip_data/11.parquet', engine='pyarrow')\n",
    "idx = raw['PULocationID'].isin(queens)\n",
    "#info(queens)\n",
    "info(idx) #it has dimensions 1, shape (6339567,)\n",
    "res= raw[idx]\n",
    "#info(res) 414196\n",
    "# d.to_csv(\"C:/Users/kyral/Documents/GitHub/PDS_Yellowcab_UoC/data/output/trips.csv\")\n",
    "#print(res.head())\n",
    "#print(np.sum(res['tpep_pickup_datetime'].dt.weekday==0))\n",
    "#print(res['tpep_pickup_datetime'].dt.weekday.unique())\n",
    "#satraw= raw['tpep_pickup_datetime'].dt.weekday==5\n",
    "#satres= res['tpep_pickup_datetime'].dt.weekday==5\n",
    "#sunraw= raw['tpep_pickup_datetime'].dt.weekday==6\n",
    "#sunres= res['tpep_pickup_datetime'].dt.weekday==6\n",
    "#info(sat)\n",
    "#info(sun)\n",
    "#d1 = dict(zip(np.arange(0,7),[0,0,0,0,0,1,1]))\n",
    "#s1res = pd.Series(res.iloc[:,0].dt.weekday.map(d1))\n",
    "#s1raw= pd.Series(raw.iloc[:,0].dt.weekday.map(d1))\n",
    "#print(np.sum(res['weekend']==1))\n",
    "#print(res.head())\n",
    "#print(res.iloc[:,1]-res.iloc[:,0])\n",
    "#s1res =s1res.rename('weekend')\n",
    "#s1raw = s1raw.rename('weekend')\n",
    "#print(s1)\n",
    "#res= pd.concat((res,s1res),axis=1)\n",
    "#raw= pd.concat((raw,s1raw), axis=1)\n",
    "#info(res)\n",
    "#info(res2)\n",
    "#print(res2.head())"
   ]
  },
  {
   "cell_type": "code",
   "execution_count": 7,
   "metadata": {},
   "outputs": [],
   "source": [
    "# AUGMENTED DATASET\n",
    "raw['start_month']=raw['tpep_pickup_datetime'].dt.month_name()\n",
    "raw['end_month']=raw['tpep_dropoff_datetime'].dt.month_name()\n",
    "months =['January','February','March', 'April','May','June','July','August','September','October','November','December']\n",
    "dmonths= dict(zip(months,np.arange(1,13,1)))\n",
    "raw['start_month_num']=raw['start_month'].map(dmonths)\n",
    "raw['end_month_num']=raw['end_month'].map(dmonths)\n",
    "\n",
    "raw['start_day']=raw['tpep_pickup_datetime'].dt.dayofweek\n",
    "raw['end_day']=raw['tpep_dropoff_datetime'].dt.dayofweek\n",
    "dday= dict(zip(np.arange(0,7,1),[0,0,0,0,0,1,1]))\n",
    "raw['weekend_starttrip']=raw['start_day'].map(dday)\n",
    "raw['weekend_endtrip']=raw['end_day'].map(dday)\n",
    "\n",
    "raw['start_hour']=raw['tpep_pickup_datetime'].dt.hour\n",
    "raw['end_hour']=raw['tpep_dropoff_datetime'].dt.hour\n",
    "raw['duration']= (raw['tpep_dropoff_datetime']-raw['tpep_pickup_datetime'])/np.timedelta64(1,'s')\n",
    "\n",
    "#start and end position\n",
    "\n"
   ]
  },
  {
   "cell_type": "code",
   "execution_count": 44,
   "metadata": {},
   "outputs": [
    {
     "data": {
      "text/plain": [
       "<AxesSubplot:xlabel='duration', ylabel='Count'>"
      ]
     },
     "execution_count": 44,
     "metadata": {},
     "output_type": "execute_result"
    },
    {
     "data": {
      "image/png": "[encoded data removed]",
      "text/plain": [
       "<Figure size 432x288 with 1 Axes>"
      ]
     },
     "metadata": {
      "needs_background": "light"
     },
     "output_type": "display_data"
    }
   ],
   "source": [
    "sns.histplot(raw['duration'], bins=5, kde=True)\n",
    "\n"
   ]
  },
  {
   "cell_type": "code",
   "execution_count": 1,
   "metadata": {},
   "outputs": [
    {
     "ename": "NameError",
     "evalue": "name 'sns' is not defined",
     "output_type": "error",
     "traceback": [
      "\u001b[1;31m---------------------------------------------------------------------------\u001b[0m",
      "\u001b[1;31mNameError\u001b[0m                                 Traceback (most recent call last)",
      "\u001b[1;32m<ipython-input-1-2b062008f441>\u001b[0m in \u001b[0;36m<module>\u001b[1;34m\u001b[0m\n\u001b[1;32m----> 1\u001b[1;33m \u001b[0msns\u001b[0m\u001b[1;33m.\u001b[0m\u001b[0mhistplot\u001b[0m\u001b[1;33m(\u001b[0m\u001b[0mraw\u001b[0m\u001b[1;33m[\u001b[0m\u001b[1;34m'trip_distance'\u001b[0m\u001b[1;33m]\u001b[0m\u001b[1;33m,\u001b[0m\u001b[0mkde\u001b[0m\u001b[1;33m=\u001b[0m\u001b[1;32mTrue\u001b[0m\u001b[1;33m)\u001b[0m\u001b[1;33m\u001b[0m\u001b[1;33m\u001b[0m\u001b[0m\n\u001b[0m",
      "\u001b[1;31mNameError\u001b[0m: name 'sns' is not defined"
     ]
    }
   ],
   "source": [
    "sns.histplot(raw['trip_distance'],kde=True)"
   ]
  },
  {
   "cell_type": "code",
   "execution_count": null,
   "metadata": {},
   "outputs": [],
   "source": [
    "# OUTLIERS+ UNREALISTIC OF trip distance, longitude, latitude"
   ]
  },
  {
   "cell_type": "code",
   "execution_count": 40,
   "metadata": {
    "scrolled": true
   },
   "outputs": [
    {
     "name": "stdout",
     "output_type": "stream",
     "text": [
      "  tpep_pickup_datetime tpep_dropoff_datetime  passenger_count  trip_distance  \\\n",
      "0  2020-11-01 00:37:37   2020-11-01 00:51:45              1.0           1.80   \n",
      "1  2020-11-01 00:17:41   2020-11-01 00:32:22              2.0           2.80   \n",
      "2  2020-11-01 00:42:29   2020-11-01 01:09:08              2.0           8.10   \n",
      "3  2020-11-01 00:28:59   2020-11-02 00:00:00              1.0           6.38   \n",
      "4  2020-11-01 00:13:26   2020-11-01 00:22:59              1.0           1.96   \n",
      "\n",
      "   RatecodeID  PULocationID  DOLocationID  payment_type  fare_amount  extra  \\\n",
      "0         1.0           246           137           1.0         10.0    3.0   \n",
      "1         1.0           229             4           2.0         11.5    3.0   \n",
      "2         1.0           144            83           1.0         27.0    3.0   \n",
      "3         1.0           132           205           2.0         22.0    0.5   \n",
      "4         1.0           166            42           2.0          9.0    0.5   \n",
      "\n",
      "   ...  start_day  end_day  start_hour  end_hour  weekend_starttrip  \\\n",
      "0  ...          6        6           0         0                  1   \n",
      "1  ...          6        6           0         0                  1   \n",
      "2  ...          6        6           0         1                  1   \n",
      "3  ...          6        0           0         0                  1   \n",
      "4  ...          6        6           0         0                  1   \n",
      "\n",
      "   end_month start_month_num end_month_num  weekend_endtrip  duration  \n",
      "0   November              11            11                1     848.0  \n",
      "1   November              11            11                1     881.0  \n",
      "2   November              11            11                1    1599.0  \n",
      "3   November              11            11                0   84661.0  \n",
      "4   November              11            11                1     573.0  \n",
      "\n",
      "[5 rows x 28 columns]\n"
     ]
    }
   ],
   "source": [
    "print(raw.head())"
   ]
  },
  {
   "cell_type": "code",
   "execution_count": 24,
   "metadata": {},
   "outputs": [
    {
     "data": {
      "image/png": "[encoded data removed]",
      "text/plain": [
       "<Figure size 432x288 with 2 Axes>"
      ]
     },
     "metadata": {
      "needs_background": "light"
     },
     "output_type": "display_data"
    }
   ],
   "source": [
    "#VISUALIZATION\n",
    "#relationship among features\n",
    "idxc= ['start_month_num', 'start_day', 'start_hour', 'weekend_starttrip', 'trip_distance']\n",
    "\n",
    "corr= raw[idxc].corr()\n",
    "sns.heatmap(corr)\n",
    "plt.show()"
   ]
  },
  {
   "cell_type": "code",
   "execution_count": 35,
   "metadata": {},
   "outputs": [],
   "source": [
    "#MACHINE LEARNING PROCESS CUSTOMIZED \n",
    "#pre-process data(filling missing values, categorical features to dummies one,etc)\n",
    "\n",
    "#standardize/normalize @What if data does not follow normal dist?\n",
    "# optional: train-test to get a fraction of this dataset \n",
    "#train-test split\n",
    "#decide on the model based on visulization of the relationship among features, \n",
    "#train model \n",
    "#cross-validation(gridsearchCV) to tune hypeparameters\n",
    "# compare performance between training and testing data\n"
   ]
  },
  {
   "cell_type": "code",
   "execution_count": 37,
   "metadata": {},
   "outputs": [],
   "source": [
    "X= raw[idxc]"
   ]
  },
  {
   "cell_type": "code",
   "execution_count": 38,
   "metadata": {},
   "outputs": [
    {
     "name": "stdout",
     "output_type": "stream",
     "text": [
      "   start_month_num  start_day  start_hour  weekend_starttrip  trip_distance\n",
      "0               11          6           0                  1           1.80\n",
      "1               11          6           0                  1           2.80\n",
      "2               11          6           0                  1           8.10\n",
      "3               11          6           0                  1           6.38\n",
      "4               11          6           0                  1           1.96\n"
     ]
    }
   ],
   "source": [
    "#print(X.head())"
   ]
  },
  {
   "cell_type": "code",
   "execution_count": 41,
   "metadata": {},
   "outputs": [],
   "source": [
    "#train-test split\n",
    "X_train, X_test, y_train, y_test= train_test_split(X.drop('trip_distance',axis=1),X['trip_distance'], test_size=0.3)"
   ]
  },
  {
   "cell_type": "code",
   "execution_count": 43,
   "metadata": {},
   "outputs": [
    {
     "name": "stdout",
     "output_type": "stream",
     "text": [
      "722898     7.60\n",
      "311949     3.61\n",
      "133183     1.77\n",
      "1060318    0.90\n",
      "642696     2.70\n",
      "           ... \n",
      "41308      1.60\n",
      "1001548    1.56\n",
      "280693     6.08\n",
      "1376650    1.91\n",
      "886957     1.93\n",
      "Name: trip_distance, Length: 986955, dtype: float64\n"
     ]
    }
   ],
   "source": [
    "print(y_train)"
   ]
  },
  {
   "cell_type": "code",
   "execution_count": 64,
   "metadata": {},
   "outputs": [],
   "source": [
    "polyfeatures= PolynomialFeatures()\n",
    "linmodel = LinearRegression()\n",
    "lasso= Lasso()\n",
    "pip= Pipeline([\n",
    "    ('polyfeatures',polyfeatures),\n",
    "    ('linmodel', linmodel)\n",
    "               ])\n",
    "hyperparameters_grid= {\n",
    "    'polyfeatures__degree': [1,2,3]}\n",
    "\n"
   ]
  },
  {
   "cell_type": "code",
   "execution_count": 45,
   "metadata": {},
   "outputs": [],
   "source": [
    "X_train_po= polyfeatures.fit_transform(X_train)"
   ]
  },
  {
   "cell_type": "code",
   "execution_count": 52,
   "metadata": {},
   "outputs": [
    {
     "name": "stdout",
     "output_type": "stream",
     "text": [
      "[[  1.  11.   6. ... 144.  12.   1.]\n",
      " [  1.  11.   5. ... 169.  13.   1.]\n",
      " [  1.  11.   1. ... 361.   0.   0.]\n",
      " ...\n",
      " [  1.  11.   4. ... 361.   0.   0.]\n",
      " [  1.  11.   0. ...  81.   0.   0.]\n",
      " [  1.  11.   2. ... 289.   0.   0.]]\n"
     ]
    }
   ],
   "source": [
    "#print(X_train_po.shape[1])\n",
    "print(X_train_po)"
   ]
  },
  {
   "cell_type": "code",
   "execution_count": 65,
   "metadata": {},
   "outputs": [],
   "source": [
    "grid=GridSearchCV(pip,hyperparameters_grid,verbose=True, cv=5, n_jobs=4, scoring='neg_root_mean_squared_error')"
   ]
  },
  {
   "cell_type": "code",
   "execution_count": 67,
   "metadata": {},
   "outputs": [
    {
     "name": "stdout",
     "output_type": "stream",
     "text": [
      "Fitting 5 folds for each of 3 candidates, totalling 15 fits\n"
     ]
    },
    {
     "name": "stderr",
     "output_type": "stream",
     "text": [
      "[Parallel(n_jobs=4)]: Using backend LokyBackend with 4 concurrent workers.\n"
     ]
    },
    {
     "ename": "KeyboardInterrupt",
     "evalue": "",
     "output_type": "error",
     "traceback": [
      "\u001b[1;31m---------------------------------------------------------------------------\u001b[0m",
      "\u001b[1;31mKeyboardInterrupt\u001b[0m                         Traceback (most recent call last)",
      "\u001b[1;32m<ipython-input-67-3949096c802a>\u001b[0m in \u001b[0;36m<module>\u001b[1;34m\u001b[0m\n\u001b[1;32m----> 1\u001b[1;33m \u001b[0mgrid\u001b[0m\u001b[1;33m.\u001b[0m\u001b[0mfit\u001b[0m\u001b[1;33m(\u001b[0m\u001b[0mX_train\u001b[0m\u001b[1;33m,\u001b[0m \u001b[0my_train\u001b[0m\u001b[1;33m)\u001b[0m\u001b[1;33m\u001b[0m\u001b[1;33m\u001b[0m\u001b[0m\n\u001b[0m",
      "\u001b[1;32m~\\anaconda3\\lib\\site-packages\\sklearn\\utils\\validation.py\u001b[0m in \u001b[0;36minner_f\u001b[1;34m(*args, **kwargs)\u001b[0m\n\u001b[0;32m     70\u001b[0m                           FutureWarning)\n\u001b[0;32m     71\u001b[0m         \u001b[0mkwargs\u001b[0m\u001b[1;33m.\u001b[0m\u001b[0mupdate\u001b[0m\u001b[1;33m(\u001b[0m\u001b[1;33m{\u001b[0m\u001b[0mk\u001b[0m\u001b[1;33m:\u001b[0m \u001b[0marg\u001b[0m \u001b[1;32mfor\u001b[0m \u001b[0mk\u001b[0m\u001b[1;33m,\u001b[0m \u001b[0marg\u001b[0m \u001b[1;32min\u001b[0m \u001b[0mzip\u001b[0m\u001b[1;33m(\u001b[0m\u001b[0msig\u001b[0m\u001b[1;33m.\u001b[0m\u001b[0mparameters\u001b[0m\u001b[1;33m,\u001b[0m \u001b[0margs\u001b[0m\u001b[1;33m)\u001b[0m\u001b[1;33m}\u001b[0m\u001b[1;33m)\u001b[0m\u001b[1;33m\u001b[0m\u001b[1;33m\u001b[0m\u001b[0m\n\u001b[1;32m---> 72\u001b[1;33m         \u001b[1;32mreturn\u001b[0m \u001b[0mf\u001b[0m\u001b[1;33m(\u001b[0m\u001b[1;33m**\u001b[0m\u001b[0mkwargs\u001b[0m\u001b[1;33m)\u001b[0m\u001b[1;33m\u001b[0m\u001b[1;33m\u001b[0m\u001b[0m\n\u001b[0m\u001b[0;32m     73\u001b[0m     \u001b[1;32mreturn\u001b[0m \u001b[0minner_f\u001b[0m\u001b[1;33m\u001b[0m\u001b[1;33m\u001b[0m\u001b[0m\n\u001b[0;32m     74\u001b[0m \u001b[1;33m\u001b[0m\u001b[0m\n",
      "\u001b[1;32m~\\anaconda3\\lib\\site-packages\\sklearn\\model_selection\\_search.py\u001b[0m in \u001b[0;36mfit\u001b[1;34m(self, X, y, groups, **fit_params)\u001b[0m\n\u001b[0;32m    734\u001b[0m                 \u001b[1;32mreturn\u001b[0m \u001b[0mresults\u001b[0m\u001b[1;33m\u001b[0m\u001b[1;33m\u001b[0m\u001b[0m\n\u001b[0;32m    735\u001b[0m \u001b[1;33m\u001b[0m\u001b[0m\n\u001b[1;32m--> 736\u001b[1;33m             \u001b[0mself\u001b[0m\u001b[1;33m.\u001b[0m\u001b[0m_run_search\u001b[0m\u001b[1;33m(\u001b[0m\u001b[0mevaluate_candidates\u001b[0m\u001b[1;33m)\u001b[0m\u001b[1;33m\u001b[0m\u001b[1;33m\u001b[0m\u001b[0m\n\u001b[0m\u001b[0;32m    737\u001b[0m \u001b[1;33m\u001b[0m\u001b[0m\n\u001b[0;32m    738\u001b[0m         \u001b[1;31m# For multi-metric evaluation, store the best_index_, best_params_ and\u001b[0m\u001b[1;33m\u001b[0m\u001b[1;33m\u001b[0m\u001b[1;33m\u001b[0m\u001b[0m\n",
      "\u001b[1;32m~\\anaconda3\\lib\\site-packages\\sklearn\\model_selection\\_search.py\u001b[0m in \u001b[0;36m_run_search\u001b[1;34m(self, evaluate_candidates)\u001b[0m\n\u001b[0;32m   1186\u001b[0m     \u001b[1;32mdef\u001b[0m \u001b[0m_run_search\u001b[0m\u001b[1;33m(\u001b[0m\u001b[0mself\u001b[0m\u001b[1;33m,\u001b[0m \u001b[0mevaluate_candidates\u001b[0m\u001b[1;33m)\u001b[0m\u001b[1;33m:\u001b[0m\u001b[1;33m\u001b[0m\u001b[1;33m\u001b[0m\u001b[0m\n\u001b[0;32m   1187\u001b[0m         \u001b[1;34m\"\"\"Search all candidates in param_grid\"\"\"\u001b[0m\u001b[1;33m\u001b[0m\u001b[1;33m\u001b[0m\u001b[0m\n\u001b[1;32m-> 1188\u001b[1;33m         \u001b[0mevaluate_candidates\u001b[0m\u001b[1;33m(\u001b[0m\u001b[0mParameterGrid\u001b[0m\u001b[1;33m(\u001b[0m\u001b[0mself\u001b[0m\u001b[1;33m.\u001b[0m\u001b[0mparam_grid\u001b[0m\u001b[1;33m)\u001b[0m\u001b[1;33m)\u001b[0m\u001b[1;33m\u001b[0m\u001b[1;33m\u001b[0m\u001b[0m\n\u001b[0m\u001b[0;32m   1189\u001b[0m \u001b[1;33m\u001b[0m\u001b[0m\n\u001b[0;32m   1190\u001b[0m \u001b[1;33m\u001b[0m\u001b[0m\n",
      "\u001b[1;32m~\\anaconda3\\lib\\site-packages\\sklearn\\model_selection\\_search.py\u001b[0m in \u001b[0;36mevaluate_candidates\u001b[1;34m(candidate_params)\u001b[0m\n\u001b[0;32m    706\u001b[0m                               n_splits, n_candidates, n_candidates * n_splits))\n\u001b[0;32m    707\u001b[0m \u001b[1;33m\u001b[0m\u001b[0m\n\u001b[1;32m--> 708\u001b[1;33m                 out = parallel(delayed(_fit_and_score)(clone(base_estimator),\n\u001b[0m\u001b[0;32m    709\u001b[0m                                                        \u001b[0mX\u001b[0m\u001b[1;33m,\u001b[0m \u001b[0my\u001b[0m\u001b[1;33m,\u001b[0m\u001b[1;33m\u001b[0m\u001b[1;33m\u001b[0m\u001b[0m\n\u001b[0;32m    710\u001b[0m                                                        \u001b[0mtrain\u001b[0m\u001b[1;33m=\u001b[0m\u001b[0mtrain\u001b[0m\u001b[1;33m,\u001b[0m \u001b[0mtest\u001b[0m\u001b[1;33m=\u001b[0m\u001b[0mtest\u001b[0m\u001b[1;33m,\u001b[0m\u001b[1;33m\u001b[0m\u001b[1;33m\u001b[0m\u001b[0m\n",
      "\u001b[1;32m~\\anaconda3\\lib\\site-packages\\joblib\\parallel.py\u001b[0m in \u001b[0;36m__call__\u001b[1;34m(self, iterable)\u001b[0m\n\u001b[0;32m   1059\u001b[0m \u001b[1;33m\u001b[0m\u001b[0m\n\u001b[0;32m   1060\u001b[0m             \u001b[1;32mwith\u001b[0m \u001b[0mself\u001b[0m\u001b[1;33m.\u001b[0m\u001b[0m_backend\u001b[0m\u001b[1;33m.\u001b[0m\u001b[0mretrieval_context\u001b[0m\u001b[1;33m(\u001b[0m\u001b[1;33m)\u001b[0m\u001b[1;33m:\u001b[0m\u001b[1;33m\u001b[0m\u001b[1;33m\u001b[0m\u001b[0m\n\u001b[1;32m-> 1061\u001b[1;33m                 \u001b[0mself\u001b[0m\u001b[1;33m.\u001b[0m\u001b[0mretrieve\u001b[0m\u001b[1;33m(\u001b[0m\u001b[1;33m)\u001b[0m\u001b[1;33m\u001b[0m\u001b[1;33m\u001b[0m\u001b[0m\n\u001b[0m\u001b[0;32m   1062\u001b[0m             \u001b[1;31m# Make sure that we get a last message telling us we are done\u001b[0m\u001b[1;33m\u001b[0m\u001b[1;33m\u001b[0m\u001b[1;33m\u001b[0m\u001b[0m\n\u001b[0;32m   1063\u001b[0m             \u001b[0melapsed_time\u001b[0m \u001b[1;33m=\u001b[0m \u001b[0mtime\u001b[0m\u001b[1;33m.\u001b[0m\u001b[0mtime\u001b[0m\u001b[1;33m(\u001b[0m\u001b[1;33m)\u001b[0m \u001b[1;33m-\u001b[0m \u001b[0mself\u001b[0m\u001b[1;33m.\u001b[0m\u001b[0m_start_time\u001b[0m\u001b[1;33m\u001b[0m\u001b[1;33m\u001b[0m\u001b[0m\n",
      "\u001b[1;32m~\\anaconda3\\lib\\site-packages\\joblib\\parallel.py\u001b[0m in \u001b[0;36mretrieve\u001b[1;34m(self)\u001b[0m\n\u001b[0;32m    938\u001b[0m             \u001b[1;32mtry\u001b[0m\u001b[1;33m:\u001b[0m\u001b[1;33m\u001b[0m\u001b[1;33m\u001b[0m\u001b[0m\n\u001b[0;32m    939\u001b[0m                 \u001b[1;32mif\u001b[0m \u001b[0mgetattr\u001b[0m\u001b[1;33m(\u001b[0m\u001b[0mself\u001b[0m\u001b[1;33m.\u001b[0m\u001b[0m_backend\u001b[0m\u001b[1;33m,\u001b[0m \u001b[1;34m'supports_timeout'\u001b[0m\u001b[1;33m,\u001b[0m \u001b[1;32mFalse\u001b[0m\u001b[1;33m)\u001b[0m\u001b[1;33m:\u001b[0m\u001b[1;33m\u001b[0m\u001b[1;33m\u001b[0m\u001b[0m\n\u001b[1;32m--> 940\u001b[1;33m                     \u001b[0mself\u001b[0m\u001b[1;33m.\u001b[0m\u001b[0m_output\u001b[0m\u001b[1;33m.\u001b[0m\u001b[0mextend\u001b[0m\u001b[1;33m(\u001b[0m\u001b[0mjob\u001b[0m\u001b[1;33m.\u001b[0m\u001b[0mget\u001b[0m\u001b[1;33m(\u001b[0m\u001b[0mtimeout\u001b[0m\u001b[1;33m=\u001b[0m\u001b[0mself\u001b[0m\u001b[1;33m.\u001b[0m\u001b[0mtimeout\u001b[0m\u001b[1;33m)\u001b[0m\u001b[1;33m)\u001b[0m\u001b[1;33m\u001b[0m\u001b[1;33m\u001b[0m\u001b[0m\n\u001b[0m\u001b[0;32m    941\u001b[0m                 \u001b[1;32melse\u001b[0m\u001b[1;33m:\u001b[0m\u001b[1;33m\u001b[0m\u001b[1;33m\u001b[0m\u001b[0m\n\u001b[0;32m    942\u001b[0m                     \u001b[0mself\u001b[0m\u001b[1;33m.\u001b[0m\u001b[0m_output\u001b[0m\u001b[1;33m.\u001b[0m\u001b[0mextend\u001b[0m\u001b[1;33m(\u001b[0m\u001b[0mjob\u001b[0m\u001b[1;33m.\u001b[0m\u001b[0mget\u001b[0m\u001b[1;33m(\u001b[0m\u001b[1;33m)\u001b[0m\u001b[1;33m)\u001b[0m\u001b[1;33m\u001b[0m\u001b[1;33m\u001b[0m\u001b[0m\n",
      "\u001b[1;32m~\\anaconda3\\lib\\site-packages\\joblib\\_parallel_backends.py\u001b[0m in \u001b[0;36mwrap_future_result\u001b[1;34m(future, timeout)\u001b[0m\n\u001b[0;32m    540\u001b[0m         AsyncResults.get from multiprocessing.\"\"\"\n\u001b[0;32m    541\u001b[0m         \u001b[1;32mtry\u001b[0m\u001b[1;33m:\u001b[0m\u001b[1;33m\u001b[0m\u001b[1;33m\u001b[0m\u001b[0m\n\u001b[1;32m--> 542\u001b[1;33m             \u001b[1;32mreturn\u001b[0m \u001b[0mfuture\u001b[0m\u001b[1;33m.\u001b[0m\u001b[0mresult\u001b[0m\u001b[1;33m(\u001b[0m\u001b[0mtimeout\u001b[0m\u001b[1;33m=\u001b[0m\u001b[0mtimeout\u001b[0m\u001b[1;33m)\u001b[0m\u001b[1;33m\u001b[0m\u001b[1;33m\u001b[0m\u001b[0m\n\u001b[0m\u001b[0;32m    543\u001b[0m         \u001b[1;32mexcept\u001b[0m \u001b[0mCfTimeoutError\u001b[0m \u001b[1;32mas\u001b[0m \u001b[0me\u001b[0m\u001b[1;33m:\u001b[0m\u001b[1;33m\u001b[0m\u001b[1;33m\u001b[0m\u001b[0m\n\u001b[0;32m    544\u001b[0m             \u001b[1;32mraise\u001b[0m \u001b[0mTimeoutError\u001b[0m \u001b[1;32mfrom\u001b[0m \u001b[0me\u001b[0m\u001b[1;33m\u001b[0m\u001b[1;33m\u001b[0m\u001b[0m\n",
      "\u001b[1;32m~\\anaconda3\\lib\\concurrent\\futures\\_base.py\u001b[0m in \u001b[0;36mresult\u001b[1;34m(self, timeout)\u001b[0m\n\u001b[0;32m    432\u001b[0m                 \u001b[1;32mreturn\u001b[0m \u001b[0mself\u001b[0m\u001b[1;33m.\u001b[0m\u001b[0m__get_result\u001b[0m\u001b[1;33m(\u001b[0m\u001b[1;33m)\u001b[0m\u001b[1;33m\u001b[0m\u001b[1;33m\u001b[0m\u001b[0m\n\u001b[0;32m    433\u001b[0m \u001b[1;33m\u001b[0m\u001b[0m\n\u001b[1;32m--> 434\u001b[1;33m             \u001b[0mself\u001b[0m\u001b[1;33m.\u001b[0m\u001b[0m_condition\u001b[0m\u001b[1;33m.\u001b[0m\u001b[0mwait\u001b[0m\u001b[1;33m(\u001b[0m\u001b[0mtimeout\u001b[0m\u001b[1;33m)\u001b[0m\u001b[1;33m\u001b[0m\u001b[1;33m\u001b[0m\u001b[0m\n\u001b[0m\u001b[0;32m    435\u001b[0m \u001b[1;33m\u001b[0m\u001b[0m\n\u001b[0;32m    436\u001b[0m             \u001b[1;32mif\u001b[0m \u001b[0mself\u001b[0m\u001b[1;33m.\u001b[0m\u001b[0m_state\u001b[0m \u001b[1;32min\u001b[0m \u001b[1;33m[\u001b[0m\u001b[0mCANCELLED\u001b[0m\u001b[1;33m,\u001b[0m \u001b[0mCANCELLED_AND_NOTIFIED\u001b[0m\u001b[1;33m]\u001b[0m\u001b[1;33m:\u001b[0m\u001b[1;33m\u001b[0m\u001b[1;33m\u001b[0m\u001b[0m\n",
      "\u001b[1;32m~\\anaconda3\\lib\\threading.py\u001b[0m in \u001b[0;36mwait\u001b[1;34m(self, timeout)\u001b[0m\n\u001b[0;32m    300\u001b[0m         \u001b[1;32mtry\u001b[0m\u001b[1;33m:\u001b[0m    \u001b[1;31m# restore state no matter what (e.g., KeyboardInterrupt)\u001b[0m\u001b[1;33m\u001b[0m\u001b[1;33m\u001b[0m\u001b[0m\n\u001b[0;32m    301\u001b[0m             \u001b[1;32mif\u001b[0m \u001b[0mtimeout\u001b[0m \u001b[1;32mis\u001b[0m \u001b[1;32mNone\u001b[0m\u001b[1;33m:\u001b[0m\u001b[1;33m\u001b[0m\u001b[1;33m\u001b[0m\u001b[0m\n\u001b[1;32m--> 302\u001b[1;33m                 \u001b[0mwaiter\u001b[0m\u001b[1;33m.\u001b[0m\u001b[0macquire\u001b[0m\u001b[1;33m(\u001b[0m\u001b[1;33m)\u001b[0m\u001b[1;33m\u001b[0m\u001b[1;33m\u001b[0m\u001b[0m\n\u001b[0m\u001b[0;32m    303\u001b[0m                 \u001b[0mgotit\u001b[0m \u001b[1;33m=\u001b[0m \u001b[1;32mTrue\u001b[0m\u001b[1;33m\u001b[0m\u001b[1;33m\u001b[0m\u001b[0m\n\u001b[0;32m    304\u001b[0m             \u001b[1;32melse\u001b[0m\u001b[1;33m:\u001b[0m\u001b[1;33m\u001b[0m\u001b[1;33m\u001b[0m\u001b[0m\n",
      "\u001b[1;31mKeyboardInterrupt\u001b[0m: "
     ]
    }
   ],
   "source": [
    "grid.fit(X_train, y_train)"
   ]
  },
  {
   "cell_type": "code",
   "execution_count": 70,
   "metadata": {},
   "outputs": [
    {
     "data": {
      "text/plain": [
       "array([9.76583868e+00, 9.74799714e+00, 1.58391819e+05])"
      ]
     },
     "execution_count": 70,
     "metadata": {},
     "output_type": "execute_result"
    }
   ],
   "source": [
    "np.abs(grid.cv_results_['mean_test_score'])"
   ]
  },
  {
   "cell_type": "code",
   "execution_count": 71,
   "metadata": {},
   "outputs": [
    {
     "data": {
      "text/plain": [
       "'C:\\\\Users\\\\ADMIN'"
      ]
     },
     "execution_count": 71,
     "metadata": {},
     "output_type": "execute_result"
    }
   ],
   "source": [
    "os.getcwd()"
   ]
  },
  {
   "cell_type": "code",
   "execution_count": 4,
   "metadata": {},
   "outputs": [],
   "source": [
    "#info(raw)\n",
    "features= map()\n",
    "#print(features[0:10])\n",
    "#print(len(features))\n",
    "\n",
    "#print(len(features[0]))\n",
    "L = []\n",
    "for i in np.arange(2,10):\n",
    "    shape= features[i]['geometry']['coordinates'][0]\n",
    "#shape1= features[1]['geometry']['coordinates'][0]\n",
    "#co =Polygon(shape1[0]).centroid.coords\n",
    "    co =Polygon(shape).centroid.coords\n",
    "#co1 = MultiPolygon(shape1[0])\n",
    "#print(queens)\n",
    "#zip(,co)\n",
    "#print(len(shape1[0]))\n",
    "    colist = list(co)\n",
    "    \n",
    "    L.append(colist)\n",
    "#print(len(L))\n",
    "subqueens = queens[0:8]\n",
    "d1 = dict(zip(subqueens,L))\n",
    "#print(d1)\n",
    "a = pd.Series(res['PULocationID'].map(d1))\n",
    "idx = a.notnull()\n",
    "#info(idx)\n",
    "#info(a)\n",
    "#info(res)\n",
    "#print(a)\n",
    "#print(a[idx])\n",
    "#print(len(a[idx]))\n",
    "#print(type(a[idx]))\n",
    "durationres = res.iloc[:,1]-res.iloc[:,0]\n",
    "durationraw = raw.iloc[:,1]-raw.iloc[:,0]\n",
    "durationres = durationres.rename('duration')\n",
    "durationraw = durationraw.rename('duration')\n",
    "\n",
    "res = pd.concat((res,durationres),axis=1)\n",
    "raw = pd.concat((raw,durationraw),axis=1)\n",
    "#print(raw.describe())\n",
    "#print(res.describe())\n",
    "#print((duration))\n",
    "#print(res.head)\n",
    "#print(duration.mean())\n",
    "#print(duration.std())\n",
    "b = res.iloc[:,0]\n",
    "b= b.reindex(b)\n",
    "#print(b.index.dayofweek.unique())\n",
    "d2= dict(zip(np.arange(0,7),np.arange(11,18)))\n",
    "values = b.index.dayofweek.map(d2)\n",
    "#info(values)\n",
    "#pd.concat([values,b])\n",
    "#print(type(values))\n",
    "seva= values.to_series()\n",
    "#print(np.sum(b.index.duplicated()))\n",
    "seva.index= np.arange(0,414196)\n",
    "#print(seva)\n",
    "#se = pd.concat((b,seva), axis=1)\n",
    "#print((se.isnull()))\n"
   ]
  },
  {
   "cell_type": "code",
   "execution_count": 80,
   "metadata": {},
   "outputs": [
    {
     "name": "stdout",
     "output_type": "stream",
     "text": [
      "it has dimensions 2, shape (331356, 15), size 4970340\n",
      "it has dimensions 1, shape (331356,), size 331356\n",
      "it has dimensions 2, shape (82840, 15), size 1242600\n",
      "0.9991340915511805\n"
     ]
    }
   ],
   "source": [
    "\n",
    "#pd.concat((res,duration))\n",
    "#print(res[0:30])\n",
    "#res= res.set_index('tpep_pickup_datetime')\n",
    "#print(res.groupby('day'))\n",
    "#print(res.head())\n",
    "#print(res.index.floor('d'))\n",
    "#res.groupby(res[])\n",
    "#print(res.groupby(res['tpep_pickup_datetime'].dt.dayofweek).mean())\n",
    "#print(res.groupby(res['tpep_dropoff_datetime'].dt.dayofweek).mean())\n",
    "#print(res.groupby(res['tpep_pickup_datetime'].dt.month).mean())\n",
    "#print(res.groupby(res['tpep_pickup_datetime'].dt.hour).mean())\n",
    "#print(res.iloc[:,0].dt.weekday.unique())\n",
    "#print(res['weekend']==1)\n",
    "#info(res['weekend']==1)\n",
    "#print(np.sum(res['weekend']==1))\n",
    "#print(res.groupby(res['weekend']).mean())\n",
    "#print(res[-100::][::-1])\n",
    "#print(duration)\n",
    "#help(seaborn.heatmap)\n",
    "#help(res.pivot)\n",
    "#print(res['duration'].total_seconds())\n",
    "#print(300/3600)\n",
    "#print(5/60)\n",
    "timestr= '00:04:23'\n",
    "ftr = [3600,60,1]\n",
    "L1= [int(i) for i in timestr.split(':')]\n",
    "#print(L1)\n",
    "#print([a*b for a,b in zip(ftr,L1)])) 1*23s + 4'*60s + 0h*3600s\n",
    "\n",
    "ares= res['duration']/np.timedelta64(1,'s')\n",
    "#araw= raw['duration']/np.timedelta64(1,'s')\n",
    "ares.T.drop_duplicates()\n",
    "#araw.T.drop_duplicates()\n",
    "#print(ares)\n",
    "duflres=pd.Series(ares).rename('durationfloat')\n",
    "#print(ares)\n",
    "#print(res.head())\n",
    "#duflraw=pd.Series(araw).rename('durationfloat')\n",
    "res= pd.concat((res,duflres),axis=1)\n",
    "#raw= pd.concat((raw, duflraw), axis=1)\n",
    "#res.T.drop_duplicates(inplace=True)\n",
    "#print(res.describe())\n",
    "#print(raw.describe())\n",
    "idxres = res.iloc[:,-1]>=0\n",
    "#idxraw = raw.iloc[:,-1]>=0\n",
    "#rawraw= raw[idxraw]\n",
    "#print(rawraw.describe())\n",
    "#print(len(rawraw))\n",
    "#GET RID OF OUTLIERS (9.9*10^2 -3.8*10^2)*1.5=9.15*10^2|| 9.9*10^2 + 9.15*10^2\n",
    "#idxoutli= rawraw.iloc[:,-1]<=1905\n",
    "#rawraw= rawraw[idxoutli]\n",
    "#print(stats.shapiro(rawraw.iloc[0:4000:,-1]))\n",
    "#print(res.head())\n",
    "#print(5%3)\n",
    "#print(res.groupby(res['tpep_pickup_datetime'].dt.month).mean())\n",
    "#print(res.groupby(res['dufl'].dt.month.mean()))\n",
    "#duration/np.timedelta64(1,'s')\n",
    "#https://stackoverflow.com/questions/26456825/convert-timedelta64ns-column-to-seconds-in-python-pandas-dataframe/50500560\n",
    "#help(np.timedelta64)\n",
    "#info(res)\n",
    "#plt.hist(res.iloc[:,19],bins=414196)\n",
    "#info(res.iloc[:,19])\n",
    "#print(res.iloc[:,19].max())#-res.iloc[:,19].min()\n",
    "\n",
    "#print(res.iloc[:,19].min())\n",
    "#ran= res.iloc[:,19].max()-res.iloc[:,19].min()\n",
    "#ranraw = rawraw.iloc[:,-1].max()-rawraw.iloc[:,-1].min()\n",
    "#numinterval= np.sqrt(len(res))\n",
    "#numintervalraw= np.sqrt(len(rawraw))\n",
    "#print(numinterval)\n",
    "#bins= ran/numinterval\n",
    "#bins = ranraw/numintervalraw\n",
    "#print(bins)\n",
    "#print(rawraw.describe())\n",
    "#plt.hist(res.iloc[:,19],bins=np.arange(0,4000))\n",
    "#print(rawraw.describe())\n",
    "\n",
    "#2c/ q-q plot\n",
    "#kurtosis, skewness\n",
    "#plt.hist(rawraw.iloc[:,-1], bins=50) # right skewed\n",
    "#https://datatofish.com/plot-histogram-python/\n",
    "#help(plt.hist)\n",
    "#print(np.sum(res.iloc[:,19]>1000))\n",
    "# visual inspection: q-q plot/ stat: shapiro wilk test\n",
    "#3b/\n",
    "#info(res)\n",
    "#cor = res.corr()\n",
    "#plt.figure(figsize = (10,6))\n",
    "#sns.heatmap(cor,annot=True)\n",
    "#3/\n",
    "#K-fold Cross validation \n",
    "# training and testing data points\n",
    "#normalize the data features (level of measurement )\n",
    "#pca\n",
    "#3b/\n",
    "#print(np.arange(22)==6)\n",
    "#print(res.shape[1])\n",
    "#print(res.iloc[:,[i for i in np.arange(res.shape[1])]])\n",
    "#print(res.iloc[:,[i for i in np.arange(res.shape[1]) if i!=8]]) # column fare_amount is not included\n",
    "#model1= LinearRegression()\n",
    "#model1.fit(res.iloc[:,],res.iloc[:,6])\n",
    "idxdup = ~res.columns.duplicated() # return a boolean array\n",
    "#https://stackoverflow.com/questions/14984119/python-pandas-remove-duplicate-columns\n",
    "#print(len(df))\n",
    "#print(len(res.columns))\n",
    "#print(len(df))\n",
    "res =res.loc[:,idxdup]\n",
    "#info(res)\n",
    "#print(res.head())\n",
    "#print(res.iloc[:,[i for i in np.arange(res.shape[1]) if i!=8]])\n",
    "X= res.iloc[:,[i for i in np.arange(res.shape[1]) if i!=0 if i!=1 if i!=8 if i!=17  ]]\n",
    "y=res.iloc[:,8]\n",
    "Xtrain,Xtest, ytrain, ytest= train_test_split(X,y, train_size=0.8,random_state=0)\n",
    "info(Xtrain)\n",
    "info(ytrain)\n",
    "info(Xtest)\n",
    "model1.fit(Xtrain,ytrain)\n",
    "#print(model1.coef_)\n",
    "#print(model1.score(Xtest,ytest))\n",
    "#info(X)\n",
    "model2 = PolynomialFeatures()\n",
    "model"
   ]
  },
  {
   "cell_type": "code",
   "execution_count": 49,
   "metadata": {},
   "outputs": [
    {
     "name": "stdout",
     "output_type": "stream",
     "text": [
      "Help on function hist in module matplotlib.pyplot:\n",
      "\n",
      "hist(x, bins=None, range=None, density=False, weights=None, cumulative=False, bottom=None, histtype='bar', align='mid', orientation='vertical', rwidth=None, log=False, color=None, label=None, stacked=False, *, data=None, **kwargs)\n",
      "    Plot a histogram.\n",
      "    \n",
      "    Compute and draw the histogram of *x*.  The return value is a tuple\n",
      "    (*n*, *bins*, *patches*) or ([*n0*, *n1*, ...], *bins*, [*patches0*,\n",
      "    *patches1*, ...]) if the input contains multiple data.  See the\n",
      "    documentation of the *weights* parameter to draw a histogram of\n",
      "    already-binned data.\n",
      "    \n",
      "    Multiple data can be provided via *x* as a list of datasets\n",
      "    of potentially different length ([*x0*, *x1*, ...]), or as\n",
      "    a 2-D ndarray in which each column is a dataset.  Note that\n",
      "    the ndarray form is transposed relative to the list form.\n",
      "    \n",
      "    Masked arrays are not supported.\n",
      "    \n",
      "    The *bins*, *range*, *weights*, and *density* parameters behave as in\n",
      "    `numpy.histogram`.\n",
      "    \n",
      "    Parameters\n",
      "    ----------\n",
      "    x : (n,) array or sequence of (n,) arrays\n",
      "        Input values, this takes either a single array or a sequence of\n",
      "        arrays which are not required to be of the same length.\n",
      "    \n",
      "    bins : int or sequence or str, default: :rc:`hist.bins`\n",
      "        If *bins* is an integer, it defines the number of equal-width bins\n",
      "        in the range.\n",
      "    \n",
      "        If *bins* is a sequence, it defines the bin edges, including the\n",
      "        left edge of the first bin and the right edge of the last bin;\n",
      "        in this case, bins may be unequally spaced.  All but the last\n",
      "        (righthand-most) bin is half-open.  In other words, if *bins* is::\n",
      "    \n",
      "            [1, 2, 3, 4]\n",
      "    \n",
      "        then the first bin is ``[1, 2)`` (including 1, but excluding 2) and\n",
      "        the second ``[2, 3)``.  The last bin, however, is ``[3, 4]``, which\n",
      "        *includes* 4.\n",
      "    \n",
      "        If *bins* is a string, it is one of the binning strategies\n",
      "        supported by `numpy.histogram_bin_edges`: 'auto', 'fd', 'doane',\n",
      "        'scott', 'stone', 'rice', 'sturges', or 'sqrt'.\n",
      "    \n",
      "    range : tuple or None, default: None\n",
      "        The lower and upper range of the bins. Lower and upper outliers\n",
      "        are ignored. If not provided, *range* is ``(x.min(), x.max())``.\n",
      "        Range has no effect if *bins* is a sequence.\n",
      "    \n",
      "        If *bins* is a sequence or *range* is specified, autoscaling\n",
      "        is based on the specified bin range instead of the\n",
      "        range of x.\n",
      "    \n",
      "    density : bool, default: False\n",
      "        If ``True``, draw and return a probability density: each bin\n",
      "        will display the bin's raw count divided by the total number of\n",
      "        counts *and the bin width*\n",
      "        (``density = counts / (sum(counts) * np.diff(bins))``),\n",
      "        so that the area under the histogram integrates to 1\n",
      "        (``np.sum(density * np.diff(bins)) == 1``).\n",
      "    \n",
      "        If *stacked* is also ``True``, the sum of the histograms is\n",
      "        normalized to 1.\n",
      "    \n",
      "    weights : (n,) array-like or None, default: None\n",
      "        An array of weights, of the same shape as *x*.  Each value in\n",
      "        *x* only contributes its associated weight towards the bin count\n",
      "        (instead of 1).  If *density* is ``True``, the weights are\n",
      "        normalized, so that the integral of the density over the range\n",
      "        remains 1.\n",
      "    \n",
      "        This parameter can be used to draw a histogram of data that has\n",
      "        already been binned, e.g. using `numpy.histogram` (by treating each\n",
      "        bin as a single point with a weight equal to its count) ::\n",
      "    \n",
      "            counts, bins = np.histogram(data)\n",
      "            plt.hist(bins[:-1], bins, weights=counts)\n",
      "    \n",
      "        (or you may alternatively use `~.bar()`).\n",
      "    \n",
      "    cumulative : bool or -1, default: False\n",
      "        If ``True``, then a histogram is computed where each bin gives the\n",
      "        counts in that bin plus all bins for smaller values. The last bin\n",
      "        gives the total number of datapoints.\n",
      "    \n",
      "        If *density* is also ``True`` then the histogram is normalized such\n",
      "        that the last bin equals 1.\n",
      "    \n",
      "        If *cumulative* is a number less than 0 (e.g., -1), the direction\n",
      "        of accumulation is reversed.  In this case, if *density* is also\n",
      "        ``True``, then the histogram is normalized such that the first bin\n",
      "        equals 1.\n",
      "    \n",
      "    bottom : array-like, scalar, or None, default: None\n",
      "        Location of the bottom of each bin, ie. bins are drawn from\n",
      "        ``bottom`` to ``bottom + hist(x, bins)`` If a scalar, the bottom\n",
      "        of each bin is shifted by the same amount. If an array, each bin\n",
      "        is shifted independently and the length of bottom must match the\n",
      "        number of bins. If None, defaults to 0.\n",
      "    \n",
      "    histtype : {'bar', 'barstacked', 'step', 'stepfilled'}, default: 'bar'\n",
      "        The type of histogram to draw.\n",
      "    \n",
      "        - 'bar' is a traditional bar-type histogram.  If multiple data\n",
      "          are given the bars are arranged side by side.\n",
      "        - 'barstacked' is a bar-type histogram where multiple\n",
      "          data are stacked on top of each other.\n",
      "        - 'step' generates a lineplot that is by default unfilled.\n",
      "        - 'stepfilled' generates a lineplot that is by default filled.\n",
      "    \n",
      "    align : {'left', 'mid', 'right'}, default: 'mid'\n",
      "        The horizontal alignment of the histogram bars.\n",
      "    \n",
      "        - 'left': bars are centered on the left bin edges.\n",
      "        - 'mid': bars are centered between the bin edges.\n",
      "        - 'right': bars are centered on the right bin edges.\n",
      "    \n",
      "    orientation : {'vertical', 'horizontal'}, default: 'vertical'\n",
      "        If 'horizontal', `~.Axes.barh` will be used for bar-type histograms\n",
      "        and the *bottom* kwarg will be the left edges.\n",
      "    \n",
      "    rwidth : float or None, default: None\n",
      "        The relative width of the bars as a fraction of the bin width.  If\n",
      "        ``None``, automatically compute the width.\n",
      "    \n",
      "        Ignored if *histtype* is 'step' or 'stepfilled'.\n",
      "    \n",
      "    log : bool, default: False\n",
      "        If ``True``, the histogram axis will be set to a log scale. If\n",
      "        *log* is ``True`` and *x* is a 1D array, empty bins will be\n",
      "        filtered out and only the non-empty ``(n, bins, patches)``\n",
      "        will be returned.\n",
      "    \n",
      "    color : color or array-like of colors or None, default: None\n",
      "        Color or sequence of colors, one per dataset.  Default (``None``)\n",
      "        uses the standard line color sequence.\n",
      "    \n",
      "    label : str or None, default: None\n",
      "        String, or sequence of strings to match multiple datasets.  Bar\n",
      "        charts yield multiple patches per dataset, but only the first gets\n",
      "        the label, so that `~.Axes.legend` will work as expected.\n",
      "    \n",
      "    stacked : bool, default: False\n",
      "        If ``True``, multiple data are stacked on top of each other If\n",
      "        ``False`` multiple data are arranged side by side if histtype is\n",
      "        'bar' or on top of each other if histtype is 'step'\n",
      "    \n",
      "    Returns\n",
      "    -------\n",
      "    n : array or list of arrays\n",
      "        The values of the histogram bins. See *density* and *weights* for a\n",
      "        description of the possible semantics.  If input *x* is an array,\n",
      "        then this is an array of length *nbins*. If input is a sequence of\n",
      "        arrays ``[data1, data2, ...]``, then this is a list of arrays with\n",
      "        the values of the histograms for each of the arrays in the same\n",
      "        order.  The dtype of the array *n* (or of its element arrays) will\n",
      "        always be float even if no weighting or normalization is used.\n",
      "    \n",
      "    bins : array\n",
      "        The edges of the bins. Length nbins + 1 (nbins left edges and right\n",
      "        edge of last bin).  Always a single array even when multiple data\n",
      "        sets are passed in.\n",
      "    \n",
      "    patches : `.BarContainer` or list of a single `.Polygon` or list of such objects\n",
      "        Container of individual artists used to create the histogram\n",
      "        or list of such containers if there are multiple input datasets.\n",
      "    \n",
      "    Other Parameters\n",
      "    ----------------\n",
      "    **kwargs\n",
      "        `~matplotlib.patches.Patch` properties\n",
      "    \n",
      "    See Also\n",
      "    --------\n",
      "    hist2d : 2D histograms\n",
      "    \n",
      "    Notes\n",
      "    -----\n",
      "    For large numbers of bins (>1000), 'step' and 'stepfilled' can be\n",
      "    significantly faster than 'bar' and 'barstacked'.\n",
      "    \n",
      "    .. note::\n",
      "        In addition to the above described arguments, this function can take\n",
      "        a *data* keyword argument. If such a *data* argument is given,\n",
      "        the following arguments can also be string ``s``, which is\n",
      "        interpreted as ``data[s]`` (unless this raises an exception):\n",
      "        *x*, *weights*.\n",
      "    \n",
      "        Objects passed as **data** must support item access (``data[s]``) and\n",
      "        membership test (``s in data``).\n",
      "\n"
     ]
    }
   ],
   "source": [
    "#print(pd.DataFrame([[1,2,3,4],list('abcd')], columns=list(\"ABCD\")))\n",
    "\n",
    "#('C:/Users/ADMIN/AppData/Local/tmc/vscode/hy-data-analysis-with-python-2020/part03-e03_most_frequent_first/src/most_frequent_first.py')\n",
    "help(plt.hist)"
   ]
  }
 ],
 "metadata": {
  "kernelspec": {
   "display_name": "Python 3",
   "language": "python",
   "name": "python3"
  },
  "language_info": {
   "codemirror_mode": {
    "name": "ipython",
    "version": 3
   },
   "file_extension": ".py",
   "mimetype": "text/x-python",
   "name": "python",
   "nbconvert_exporter": "python",
   "pygments_lexer": "ipython3",
   "version": "3.8.5"
  }
 },
 "nbformat": 4,
 "nbformat_minor": 4
}
